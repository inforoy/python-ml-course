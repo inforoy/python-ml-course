{
 "cells": [
  {
   "cell_type": "markdown",
   "id": "cd6c5016",
   "metadata": {},
   "source": [
    "Carga de datos a través de la función 'read_csv'"
   ]
  },
  {
   "cell_type": "code",
   "execution_count": null,
   "id": "73471065",
   "metadata": {},
   "outputs": [],
   "source": [
    "import pandas as pd\n",
    "data = pd.read_csv(\"../../python-ml-course/datasets/titanic/titanic3.csv\")\n",
    "\n",
    "\"\"\"\n",
    "data = pd.read_csv(\"../../python-ml-course/datasets/titanic/titanic3.csv\"\n",
    "                   , sep = \",\"              # Separador\n",
    "                   , dtype=None             # {\"column_1\": np.float64, \"edad\":int32}\n",
    "                   , header=None            # Si es \"0\" indica que la primera fila es la cabecera\n",
    "                   , names=None             # {\"id\", \"edad\"} Para darle un nombre a las columnas\n",
    "                   , skiprows=None          # es un entero para saltarse las N primeras filas\n",
    "                   , index_col=None         # Para poner como la fila del DataSet\n",
    "                   , skip_blank_lines=False # True para saltarnos las lineas en null o NaN\n",
    "                   , na_filter=False )      # Para eliminar los valores vacios o nullos\n",
    "\"\"\"                   "
   ]
  },
  {
   "cell_type": "code",
   "execution_count": null,
   "id": "09a8dfff",
   "metadata": {},
   "outputs": [],
   "source": [
    "# Mostrar la cabecera de los datos\n",
    "data.head()"
   ]
  },
  {
   "cell_type": "code",
   "execution_count": null,
   "id": "7f169747",
   "metadata": {},
   "outputs": [],
   "source": [
    "# Mostrar la informacion de los datos\n",
    "data.info()"
   ]
  },
  {
   "cell_type": "code",
   "execution_count": null,
   "id": "52ba62b6",
   "metadata": {},
   "outputs": [],
   "source": [
    "# Mostrar el valor de las columnas\n",
    "data.columns.values"
   ]
  },
  {
   "cell_type": "markdown",
   "id": "36af0b6f",
   "metadata": {},
   "source": [
    "CASO 1: \n",
    "Tengo un dataset con las cabeceras y tengo otro dataset con los datos\n",
    "Se debe unir dichos datos en un solo dataset para su posterior análisis"
   ]
  },
  {
   "cell_type": "code",
   "execution_count": null,
   "id": "aa8eb4bb",
   "metadata": {},
   "outputs": [],
   "source": [
    "# Caso 1 Resuelto\n",
    "data2_cols = pd.read_csv(\"../../python-ml-course/datasets/customer-churn-model/Customer Churn Columns.csv\")\n",
    "data2_col_list = data_cols[\"Column_Names\"].tolist()\n",
    "data2 = pd.read_csv(\"../../python-ml-course/datasets/customer-churn-model/Customer Churn Data.txt\", names=datanew_col_list)\n",
    "data2"
   ]
  },
  {
   "cell_type": "markdown",
   "id": "d258497a",
   "metadata": {},
   "source": [
    "CASO 2: \n",
    "Carga de datos a través de la función 'open'"
   ]
  },
  {
   "cell_type": "code",
   "execution_count": null,
   "id": "429685f8",
   "metadata": {},
   "outputs": [],
   "source": [
    "data3 = open(\"../../python-ml-course/datasets/customer-churn-model/Customer Churn Model.txt\", \"r\")"
   ]
  },
  {
   "cell_type": "code",
   "execution_count": null,
   "id": "6283f873",
   "metadata": {},
   "outputs": [],
   "source": [
    "cols = data3.readline().strip().split(\",\")\n",
    "n_cols = len(cols)"
   ]
  },
  {
   "cell_type": "code",
   "execution_count": null,
   "id": "81ca41e8",
   "metadata": {},
   "outputs": [],
   "source": [
    "n_rows = 0\n",
    "main_dict = {}\n",
    "for col in cols:\n",
    "    main_dict[col] = []"
   ]
  },
  {
   "cell_type": "code",
   "execution_count": null,
   "id": "5c11b292",
   "metadata": {},
   "outputs": [],
   "source": [
    "for line in data3:\n",
    "    values = line.split(\",\")\n",
    "    for i in range(len(cols)):\n",
    "        main_dict[cols[i]].append(values[i])\n",
    "    n_rows += 1\n",
    "\n",
    "print(\"El data set tiene %d filas y %d columnas\" %(n_rows, n_cols))"
   ]
  },
  {
   "cell_type": "code",
   "execution_count": null,
   "id": "4ffc62ef",
   "metadata": {},
   "outputs": [],
   "source": [
    "df_data3 = pd.DataFrame(main_dict)\n",
    "df_data3.head()"
   ]
  },
  {
   "cell_type": "markdown",
   "id": "965ca8c7",
   "metadata": {},
   "source": [
    "CASO 3:\n",
    "Separador con \\t"
   ]
  },
  {
   "cell_type": "code",
   "execution_count": null,
   "id": "30410c6e",
   "metadata": {},
   "outputs": [],
   "source": [
    "infile = \"../../python-ml-course/datasets/customer-churn-model/Customer Churn Model.txt\"\n",
    "outfile =  \"../../python-ml-course/datasets/customer-churn-model/Tab Customer Churn Model 2.txt\" #  Se creará"
   ]
  },
  {
   "cell_type": "code",
   "execution_count": null,
   "id": "fd48cf8a",
   "metadata": {},
   "outputs": [],
   "source": [
    "with open(infile, \"r\") as infile_1:\n",
    "    with open(outfile, \"w\") as outfile_1:\n",
    "        for line in infile_1:\n",
    "            fields = line.strip().split(\",\")\n",
    "            outfile_1.write(\"\\t\".join(fields))\n",
    "            outfile_1.write(\"\\n\")"
   ]
  },
  {
   "cell_type": "code",
   "execution_count": null,
   "id": "89144566",
   "metadata": {},
   "outputs": [],
   "source": [
    "df_data4 = pd.read_csv(outfile, sep=\"\\t\")\n",
    "df_data4"
   ]
  },
  {
   "cell_type": "markdown",
   "id": "88faea8c",
   "metadata": {},
   "source": [
    "CASO 4: Ficheros XLS y XLSX"
   ]
  },
  {
   "cell_type": "code",
   "execution_count": 71,
   "id": "2da40eb9",
   "metadata": {},
   "outputs": [],
   "source": [
    "titanic_2 = pd.read_excel(\"../../python-ml-course/datasets/titanic/titanic3.xls\")\n",
    "titanic_3 = pd.read_excel(\"../../python-ml-course/datasets/titanic/titanic3.xlsx\")"
   ]
  },
  {
   "cell_type": "code",
   "execution_count": 72,
   "id": "8a2cf21b",
   "metadata": {},
   "outputs": [],
   "source": [
    "titanic_3.to_csv  (\"../../python-ml-course/datasets/titanic/titanic3_custom_v1.csv\")\n",
    "titanic_3.to_excel(\"../../python-ml-course/datasets/titanic/titanic3_custom_v1.xlsx\")\n",
    "titanic_3.to_json (\"../../python-ml-course/datasets/titanic/titanic3_custom_v1.json\")"
   ]
  }
 ],
 "metadata": {
  "kernelspec": {
   "display_name": "env_ml_datascience",
   "language": "python",
   "name": "python3"
  },
  "language_info": {
   "codemirror_mode": {
    "name": "ipython",
    "version": 3
   },
   "file_extension": ".py",
   "mimetype": "text/x-python",
   "name": "python",
   "nbconvert_exporter": "python",
   "pygments_lexer": "ipython3",
   "version": "3.12.9"
  }
 },
 "nbformat": 4,
 "nbformat_minor": 5
}
