{
 "cells": [
  {
   "cell_type": "markdown",
   "id": "989aa2b7",
   "metadata": {},
   "source": [
    "# Plots y visualizacion de los datos"
   ]
  },
  {
   "cell_type": "code",
   "execution_count": null,
   "id": "f2bfd19b",
   "metadata": {},
   "outputs": [],
   "source": [
    "import pandas as pd\n",
    "import numpy as np\n",
    "import matplotlib.pyplot as plt"
   ]
  },
  {
   "cell_type": "code",
   "execution_count": null,
   "id": "e1dbcc38",
   "metadata": {},
   "outputs": [],
   "source": [
    "# \n",
    "data = pd.read_csv(\"../../python-ml-course/datasets/customer-churn-model/Customer Churn Model.txt\")\n",
    "data1 = data\n",
    "data2 = data\n",
    "data3 = data\n",
    "data4 = data\n",
    "data5 = data"
   ]
  },
  {
   "cell_type": "code",
   "execution_count": null,
   "id": "5c50f623",
   "metadata": {},
   "outputs": [],
   "source": [
    "data.head()"
   ]
  },
  {
   "cell_type": "code",
   "execution_count": null,
   "id": "922af1ab",
   "metadata": {},
   "outputs": [],
   "source": [
    "# importar matplotlib en linea para generar graficos\n",
    "%matplotlib inline"
   ]
  },
  {
   "cell_type": "code",
   "execution_count": null,
   "id": "8b4b9d3e",
   "metadata": {},
   "outputs": [],
   "source": [
    "#savefig(\"path_donde_guardar_images.png\")"
   ]
  },
  {
   "cell_type": "markdown",
   "id": "b63572af",
   "metadata": {},
   "source": [
    "# Scatter Plot"
   ]
  },
  {
   "cell_type": "code",
   "execution_count": null,
   "id": "116fe518",
   "metadata": {},
   "outputs": [],
   "source": [
    "data1.plot(kind=\"scatter\", x=\"Day Mins\", y=\"Day Charge\")"
   ]
  },
  {
   "cell_type": "code",
   "execution_count": null,
   "id": "63bac44f",
   "metadata": {},
   "outputs": [],
   "source": [
    "data1.plot(kind=\"scatter\", x=\"Night Mins\", y=\"Night Charge\")"
   ]
  },
  {
   "cell_type": "code",
   "execution_count": null,
   "id": "bc04af82",
   "metadata": {},
   "outputs": [],
   "source": [
    "# Creamos una figura de 2x2\n",
    "# Van a compartir el eje 'X' y el eje 'Y'\n",
    "figure, axs = plt.subplots(2,2, sharey=True, sharex=True)\n",
    "data1.plot(kind=\"scatter\", x=\"Day Mins\", y=\"Day Charge\", ax=axs[0][0])\n",
    "data1.plot(kind=\"scatter\", x=\"Night Mins\", y=\"Night Charge\", ax=axs[0][1])\n",
    "data1.plot(kind=\"scatter\", x=\"Day Calls\", y=\"Day Charge\", ax=axs[1][0])\n",
    "data1.plot(kind=\"scatter\", x=\"Night Calls\", y=\"Night Charge\", ax=axs[1][1])"
   ]
  },
  {
   "cell_type": "markdown",
   "id": "1d16367d",
   "metadata": {},
   "source": [
    "# Histograma de Frecuencias"
   ]
  },
  {
   "cell_type": "code",
   "execution_count": null,
   "id": "1032bd1a",
   "metadata": {},
   "outputs": [],
   "source": [
    "# Generamos un histograma\n",
    "# bins = k, nos permite controlar la cantidad de divisiones de columnas\n",
    "# Pero 'k' se debe calcular por la regla de sturges\n",
    "k = int(np.ceil(1+np.log2(3333)))\n",
    "plt.hist(data1[\"Day Calls\"], bins=k)\n",
    "plt.xlabel(\"Numero de llamadas al dia\")\n",
    "plt.ylabel(\"Frecuencia\")\n",
    "plt.title(\"Histograma de numero de llamadas al dia\")"
   ]
  },
  {
   "cell_type": "markdown",
   "id": "0e9888ba",
   "metadata": {},
   "source": [
    "# Boxplot, diagrama de caja y bigotes."
   ]
  },
  {
   "cell_type": "code",
   "execution_count": null,
   "id": "6670be1f",
   "metadata": {},
   "outputs": [],
   "source": [
    "\n",
    "plt.boxplot(data2[\"Day Calls\"])\n",
    "plt.ylabel(\"Numero de llamadas diarias\")\n",
    "plt.title(\"Boxplot de las llamadas diarias\")"
   ]
  },
  {
   "cell_type": "code",
   "execution_count": null,
   "id": "3f2268cd",
   "metadata": {},
   "outputs": [],
   "source": [
    "data2[\"Day Calls\"].describe()"
   ]
  },
  {
   "cell_type": "code",
   "execution_count": null,
   "id": "3dfc47b8",
   "metadata": {},
   "outputs": [],
   "source": [
    "IQR = data2[\"Day Calls\"].quantile(0.75)-data2[\"Day Calls\"].quantile(0.25)\n",
    "IQR"
   ]
  },
  {
   "cell_type": "code",
   "execution_count": null,
   "id": "2aed37ea",
   "metadata": {},
   "outputs": [],
   "source": [
    "# Para que se sepa donde inicia y acaba el bigote\n",
    "data2[\"Day Calls\"].quantile(0.25) - 1.5 * IQR"
   ]
  },
  {
   "cell_type": "code",
   "execution_count": null,
   "id": "2fa6ff2e",
   "metadata": {},
   "outputs": [],
   "source": [
    "# Para el bigote superior, outlayer, valor fuera de lugar y se pintan con bolitas\n",
    "data2[\"Day Calls\"].quantile(0.75) + 1.5 * IQR"
   ]
  }
 ],
 "metadata": {
  "kernelspec": {
   "display_name": "env_ml_datascience",
   "language": "python",
   "name": "python3"
  },
  "language_info": {
   "codemirror_mode": {
    "name": "ipython",
    "version": 3
   },
   "file_extension": ".py",
   "mimetype": "text/x-python",
   "name": "python",
   "nbconvert_exporter": "python",
   "pygments_lexer": "ipython3",
   "version": "3.12.9"
  }
 },
 "nbformat": 4,
 "nbformat_minor": 5
}
