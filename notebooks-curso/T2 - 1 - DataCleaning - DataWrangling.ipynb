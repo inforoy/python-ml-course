{
 "cells": [
  {
   "cell_type": "markdown",
   "id": "3e1d30e7",
   "metadata": {},
   "source": [
    "### Data Wrangling - La cirugía de los datos\n",
    "El data wrangling, a veces denominada data munging, es el proceso de transformar y mapear datos de un dataset raw (en bruto) en otro formato con la intención de hacerlo más apropiado y valioso para una variedad de propósitos posteriores, como el análisis. Un data wrangler es una persona que realiza estas operaciones de transformación.\n",
    "\n",
    "Esto puede incluir munging, visualización de datos, agregación de datos, entrenamiento de un modelo estadístico, así como muchos otros usos potenciales. La oscilación de datos como proceso generalmente sigue un conjunto de pasos generales que comienzan extrayendo los datos en forma cruda del origen de datos, dividiendo los datos en bruto usando algoritmos (por ejemplo, clasificación) o analizando los datos en estructuras de datos predefinidas, y finalmente depositando el contenido resultante en un sistema de almacenamiento (o silo) para su uso futuro."
   ]
  },
  {
   "cell_type": "code",
   "execution_count": null,
   "id": "1991fbc7",
   "metadata": {},
   "outputs": [],
   "source": [
    "import pandas as pd"
   ]
  },
  {
   "cell_type": "code",
   "execution_count": null,
   "id": "748fe248",
   "metadata": {},
   "outputs": [],
   "source": [
    "data = pd.read_csv(\"../../python-ml-course/datasets/customer-churn-model/Customer Churn Model.txt\")\n",
    "data.head()"
   ]
  },
  {
   "cell_type": "markdown",
   "id": "7e523a34",
   "metadata": {},
   "source": [
    "# Crear un subconjunto de datos"
   ]
  },
  {
   "cell_type": "code",
   "execution_count": null,
   "id": "8986a050",
   "metadata": {},
   "outputs": [],
   "source": [
    "account_length = data[\"Account Length\"]\n",
    "account_length.head()"
   ]
  },
  {
   "cell_type": "code",
   "execution_count": null,
   "id": "bb953950",
   "metadata": {},
   "outputs": [],
   "source": [
    "# Conocer el tipo de dato generado\n",
    "type(account_length)"
   ]
  },
  {
   "cell_type": "code",
   "execution_count": null,
   "id": "5de67b25",
   "metadata": {},
   "outputs": [],
   "source": [
    "subset_1 = data[[\"Account Length\", \"Phone\", \"Eve Charge\", \"Night Calls\"]]\n",
    "subset_1.head()"
   ]
  },
  {
   "cell_type": "code",
   "execution_count": null,
   "id": "09f06e06",
   "metadata": {},
   "outputs": [],
   "source": [
    "# Conocer el tipo de dato generado\n",
    "type(subset_1)"
   ]
  },
  {
   "cell_type": "code",
   "execution_count": null,
   "id": "94e9dc21",
   "metadata": {},
   "outputs": [],
   "source": [
    "#\n",
    "desired_columns = [\"Account Length\", \"Phone\", \"Eve Charge\", \"Night Calls\"]\n",
    "subset_2 = data[desired_columns]\n",
    "subset_2.head()"
   ]
  },
  {
   "cell_type": "code",
   "execution_count": null,
   "id": "e4a1963e",
   "metadata": {},
   "outputs": [],
   "source": [
    "# Conocer el tipo de dato generado\n",
    "type(subset_2)"
   ]
  },
  {
   "cell_type": "code",
   "execution_count": null,
   "id": "12cc7db6",
   "metadata": {},
   "outputs": [],
   "source": [
    "#\n",
    "desired_columns_2 = [\"Account Length\", \"VMail Message\", \"Day Calls\"]\n",
    "subset_3 = data[desired_columns_2]\n",
    "subset_3.head()"
   ]
  },
  {
   "cell_type": "code",
   "execution_count": null,
   "id": "fc7d741d",
   "metadata": {},
   "outputs": [],
   "source": [
    "# Mostrar todas la columnas del dataset\n",
    "all_column_list = data.columns.values.tolist()\n",
    "all_column_list"
   ]
  },
  {
   "cell_type": "code",
   "execution_count": null,
   "id": "f6b47804",
   "metadata": {},
   "outputs": [],
   "source": [
    "# Quitar las columnas no deseadas\n",
    "sublist = [x for x in all_column_list if x not in desired_columns_2]\n",
    "sublist"
   ]
  },
  {
   "cell_type": "code",
   "execution_count": null,
   "id": "f8162343",
   "metadata": {},
   "outputs": [],
   "source": [
    "subset_4 = data[sublist]\n",
    "subset_4.head()"
   ]
  },
  {
   "cell_type": "code",
   "execution_count": null,
   "id": "578c65a4",
   "metadata": {},
   "outputs": [],
   "source": [
    "# Obtener un rango de datos es específico\n",
    "data[10:20]"
   ]
  },
  {
   "cell_type": "code",
   "execution_count": null,
   "id": "468cbb3d",
   "metadata": {},
   "outputs": [],
   "source": [
    "# Usuarios con Total Mins > 500\n",
    "data_1 = data[data[\"Day Mins\"]>330]\n",
    "data_1"
   ]
  },
  {
   "cell_type": "code",
   "execution_count": null,
   "id": "757b5ffd",
   "metadata": {},
   "outputs": [],
   "source": [
    "# Obtener los usuario de New York (NY)\n",
    "data_2 = data[data[\"State\"]==\"NY\"]\n",
    "data_2"
   ]
  },
  {
   "cell_type": "code",
   "execution_count": null,
   "id": "9bd0aab8",
   "metadata": {},
   "outputs": [],
   "source": [
    "# AND -> &\n",
    "\n",
    "data_3 = data[(data[\"Day Mins\"]>300) & (data[\"State\"]==\"NY\")] \n",
    "data_3"
   ]
  },
  {
   "cell_type": "code",
   "execution_count": null,
   "id": "da3fb60b",
   "metadata": {},
   "outputs": [],
   "source": [
    "# OR -> \n",
    "data_4 = data[(data[\"Day Mins\"]>300) | (data[\"State\"]==\"NY\")] \n",
    "data_4"
   ]
  },
  {
   "cell_type": "code",
   "execution_count": null,
   "id": "66d055aa",
   "metadata": {},
   "outputs": [],
   "source": [
    "# \n",
    "data_5 = data[data[\"Day Calls\"]<data[\"Night Calls\"]] \n",
    "data_5"
   ]
  },
  {
   "cell_type": "code",
   "execution_count": null,
   "id": "3c9c9bec",
   "metadata": {},
   "outputs": [],
   "source": [
    "data_6 = data[data[\"Day Mins\"]<data[\"Night Mins\"]] \n",
    "data_6"
   ]
  },
  {
   "cell_type": "code",
   "execution_count": null,
   "id": "b76d1495",
   "metadata": {},
   "outputs": [],
   "source": [
    "# Minutos de dia, de noche y longitud de la cuenta de los primeros 50 individuos\n",
    "subset_first_50 = data[[\"Day Mins\",\"Night Mins\",\"Account Length\"]][:50]\n",
    "subset_first_50.head()"
   ]
  },
  {
   "cell_type": "code",
   "execution_count": null,
   "id": "acf87ae1",
   "metadata": {},
   "outputs": [],
   "source": [
    "# Mostrar las 10 primeras filas y las columnas del 3 al 6\n",
    "data_7 = data.iloc[0:10, 3:6]\n",
    "data_7"
   ]
  },
  {
   "cell_type": "code",
   "execution_count": null,
   "id": "52cd8810",
   "metadata": {},
   "outputs": [],
   "source": [
    "# Mostrar todas las filas para las columnas 3,4,5,6\n",
    "data.iloc[:,3:6]\n"
   ]
  },
  {
   "cell_type": "code",
   "execution_count": null,
   "id": "5725edc8",
   "metadata": {},
   "outputs": [],
   "source": [
    "# Mostrar todas las columnas para las primeras 10 filas\n",
    "data.iloc[0:10,:]"
   ]
  },
  {
   "cell_type": "code",
   "execution_count": null,
   "id": "cb8d81cc",
   "metadata": {},
   "outputs": [],
   "source": [
    "# para acceder por posicion\n",
    "data.iloc[[1,5,8,36],[2,5,7]]"
   ]
  },
  {
   "cell_type": "code",
   "execution_count": null,
   "id": "772cca23",
   "metadata": {},
   "outputs": [],
   "source": [
    "# Para acceder por ?\n",
    "data.loc[[1,5,8,36],[\"Area Code\",\"VMail Plan\", \"Day Mins\"]]"
   ]
  },
  {
   "cell_type": "code",
   "execution_count": null,
   "id": "431c0d2f",
   "metadata": {},
   "outputs": [],
   "source": [
    "# Crear una nueva columna con los minutos totales\n",
    "data[\"Totals Mins\"] = data[\"Day Mins\"] + data[\"Night Mins\"] + data[\"Eve Mins\"]\n",
    "data"
   ]
  },
  {
   "cell_type": "code",
   "execution_count": null,
   "id": "39bcd081",
   "metadata": {},
   "outputs": [],
   "source": [
    "# Crear una columna con las llamadas totales\n",
    "data[\"Totals Calls\"] = data[\"Day Calls\"] + data[\"Night Calls\"] + data[\"Eve Calls\"]\n",
    "data"
   ]
  },
  {
   "cell_type": "code",
   "execution_count": null,
   "id": "9c92eb63",
   "metadata": {},
   "outputs": [],
   "source": [
    "data.shape"
   ]
  },
  {
   "cell_type": "code",
   "execution_count": null,
   "id": "768619c9",
   "metadata": {},
   "outputs": [],
   "source": [
    "data.head()"
   ]
  },
  {
   "cell_type": "markdown",
   "id": "83613a44",
   "metadata": {},
   "source": [
    "# Generacion de números aleatorios"
   ]
  },
  {
   "cell_type": "code",
   "execution_count": 69,
   "id": "1fc5c8ff",
   "metadata": {},
   "outputs": [],
   "source": [
    "import numpy as np"
   ]
  },
  {
   "cell_type": "code",
   "execution_count": null,
   "id": "67724b17",
   "metadata": {},
   "outputs": [
    {
     "data": {
      "text/plain": [
       "86"
      ]
     },
     "execution_count": 84,
     "metadata": {},
     "output_type": "execute_result"
    }
   ],
   "source": [
    "# Generar un numero aleatorio entre (1,100)\n",
    "np.random.randint(1,100)"
   ]
  },
  {
   "cell_type": "code",
   "execution_count": null,
   "id": "0061b76a",
   "metadata": {},
   "outputs": [
    {
     "data": {
      "text/plain": [
       "0.3355520778976301"
      ]
     },
     "execution_count": 90,
     "metadata": {},
     "output_type": "execute_result"
    }
   ],
   "source": [
    "# Generar un aleatorio entre 0 y 1 (Con decimales)\n",
    "np.random.random()"
   ]
  },
  {
   "cell_type": "code",
   "execution_count": null,
   "id": "66aa395e",
   "metadata": {},
   "outputs": [],
   "source": []
  }
 ],
 "metadata": {
  "kernelspec": {
   "display_name": "env_ml_datascience",
   "language": "python",
   "name": "python3"
  },
  "language_info": {
   "codemirror_mode": {
    "name": "ipython",
    "version": 3
   },
   "file_extension": ".py",
   "mimetype": "text/x-python",
   "name": "python",
   "nbconvert_exporter": "python",
   "pygments_lexer": "ipython3",
   "version": "3.12.9"
  }
 },
 "nbformat": 4,
 "nbformat_minor": 5
}
