{
 "cells": [
  {
   "cell_type": "markdown",
   "id": "3e1d30e7",
   "metadata": {},
   "source": [
    "### Data Wrangling - La cirugía de los datos\n",
    "El data wrangling, a veces denominada data munging, es el proceso de transformar y mapear datos de un dataset raw (en bruto) en otro formato con la intención de hacerlo más apropiado y valioso para una variedad de propósitos posteriores, como el análisis. Un data wrangler es una persona que realiza estas operaciones de transformación.\n",
    "\n",
    "Esto puede incluir munging, visualización de datos, agregación de datos, entrenamiento de un modelo estadístico, así como muchos otros usos potenciales. La oscilación de datos como proceso generalmente sigue un conjunto de pasos generales que comienzan extrayendo los datos en forma cruda del origen de datos, dividiendo los datos en bruto usando algoritmos (por ejemplo, clasificación) o analizando los datos en estructuras de datos predefinidas, y finalmente depositando el contenido resultante en un sistema de almacenamiento (o silo) para su uso futuro."
   ]
  },
  {
   "cell_type": "code",
   "execution_count": 104,
   "id": "1991fbc7",
   "metadata": {},
   "outputs": [],
   "source": [
    "import pandas as pd"
   ]
  },
  {
   "cell_type": "code",
   "execution_count": 105,
   "id": "748fe248",
   "metadata": {},
   "outputs": [
    {
     "data": {
      "text/html": [
       "<div>\n",
       "<style scoped>\n",
       "    .dataframe tbody tr th:only-of-type {\n",
       "        vertical-align: middle;\n",
       "    }\n",
       "\n",
       "    .dataframe tbody tr th {\n",
       "        vertical-align: top;\n",
       "    }\n",
       "\n",
       "    .dataframe thead th {\n",
       "        text-align: right;\n",
       "    }\n",
       "</style>\n",
       "<table border=\"1\" class=\"dataframe\">\n",
       "  <thead>\n",
       "    <tr style=\"text-align: right;\">\n",
       "      <th></th>\n",
       "      <th>State</th>\n",
       "      <th>Account Length</th>\n",
       "      <th>Area Code</th>\n",
       "      <th>Phone</th>\n",
       "      <th>Int'l Plan</th>\n",
       "      <th>VMail Plan</th>\n",
       "      <th>VMail Message</th>\n",
       "      <th>Day Mins</th>\n",
       "      <th>Day Calls</th>\n",
       "      <th>Day Charge</th>\n",
       "      <th>...</th>\n",
       "      <th>Eve Calls</th>\n",
       "      <th>Eve Charge</th>\n",
       "      <th>Night Mins</th>\n",
       "      <th>Night Calls</th>\n",
       "      <th>Night Charge</th>\n",
       "      <th>Intl Mins</th>\n",
       "      <th>Intl Calls</th>\n",
       "      <th>Intl Charge</th>\n",
       "      <th>CustServ Calls</th>\n",
       "      <th>Churn?</th>\n",
       "    </tr>\n",
       "  </thead>\n",
       "  <tbody>\n",
       "    <tr>\n",
       "      <th>0</th>\n",
       "      <td>KS</td>\n",
       "      <td>128</td>\n",
       "      <td>415</td>\n",
       "      <td>382-4657</td>\n",
       "      <td>no</td>\n",
       "      <td>yes</td>\n",
       "      <td>25</td>\n",
       "      <td>265.1</td>\n",
       "      <td>110</td>\n",
       "      <td>45.07</td>\n",
       "      <td>...</td>\n",
       "      <td>99</td>\n",
       "      <td>16.78</td>\n",
       "      <td>244.7</td>\n",
       "      <td>91</td>\n",
       "      <td>11.01</td>\n",
       "      <td>10.0</td>\n",
       "      <td>3</td>\n",
       "      <td>2.70</td>\n",
       "      <td>1</td>\n",
       "      <td>False.</td>\n",
       "    </tr>\n",
       "    <tr>\n",
       "      <th>1</th>\n",
       "      <td>OH</td>\n",
       "      <td>107</td>\n",
       "      <td>415</td>\n",
       "      <td>371-7191</td>\n",
       "      <td>no</td>\n",
       "      <td>yes</td>\n",
       "      <td>26</td>\n",
       "      <td>161.6</td>\n",
       "      <td>123</td>\n",
       "      <td>27.47</td>\n",
       "      <td>...</td>\n",
       "      <td>103</td>\n",
       "      <td>16.62</td>\n",
       "      <td>254.4</td>\n",
       "      <td>103</td>\n",
       "      <td>11.45</td>\n",
       "      <td>13.7</td>\n",
       "      <td>3</td>\n",
       "      <td>3.70</td>\n",
       "      <td>1</td>\n",
       "      <td>False.</td>\n",
       "    </tr>\n",
       "    <tr>\n",
       "      <th>2</th>\n",
       "      <td>NJ</td>\n",
       "      <td>137</td>\n",
       "      <td>415</td>\n",
       "      <td>358-1921</td>\n",
       "      <td>no</td>\n",
       "      <td>no</td>\n",
       "      <td>0</td>\n",
       "      <td>243.4</td>\n",
       "      <td>114</td>\n",
       "      <td>41.38</td>\n",
       "      <td>...</td>\n",
       "      <td>110</td>\n",
       "      <td>10.30</td>\n",
       "      <td>162.6</td>\n",
       "      <td>104</td>\n",
       "      <td>7.32</td>\n",
       "      <td>12.2</td>\n",
       "      <td>5</td>\n",
       "      <td>3.29</td>\n",
       "      <td>0</td>\n",
       "      <td>False.</td>\n",
       "    </tr>\n",
       "    <tr>\n",
       "      <th>3</th>\n",
       "      <td>OH</td>\n",
       "      <td>84</td>\n",
       "      <td>408</td>\n",
       "      <td>375-9999</td>\n",
       "      <td>yes</td>\n",
       "      <td>no</td>\n",
       "      <td>0</td>\n",
       "      <td>299.4</td>\n",
       "      <td>71</td>\n",
       "      <td>50.90</td>\n",
       "      <td>...</td>\n",
       "      <td>88</td>\n",
       "      <td>5.26</td>\n",
       "      <td>196.9</td>\n",
       "      <td>89</td>\n",
       "      <td>8.86</td>\n",
       "      <td>6.6</td>\n",
       "      <td>7</td>\n",
       "      <td>1.78</td>\n",
       "      <td>2</td>\n",
       "      <td>False.</td>\n",
       "    </tr>\n",
       "    <tr>\n",
       "      <th>4</th>\n",
       "      <td>OK</td>\n",
       "      <td>75</td>\n",
       "      <td>415</td>\n",
       "      <td>330-6626</td>\n",
       "      <td>yes</td>\n",
       "      <td>no</td>\n",
       "      <td>0</td>\n",
       "      <td>166.7</td>\n",
       "      <td>113</td>\n",
       "      <td>28.34</td>\n",
       "      <td>...</td>\n",
       "      <td>122</td>\n",
       "      <td>12.61</td>\n",
       "      <td>186.9</td>\n",
       "      <td>121</td>\n",
       "      <td>8.41</td>\n",
       "      <td>10.1</td>\n",
       "      <td>3</td>\n",
       "      <td>2.73</td>\n",
       "      <td>3</td>\n",
       "      <td>False.</td>\n",
       "    </tr>\n",
       "  </tbody>\n",
       "</table>\n",
       "<p>5 rows × 21 columns</p>\n",
       "</div>"
      ],
      "text/plain": [
       "  State  Account Length  Area Code     Phone Int'l Plan VMail Plan  \\\n",
       "0    KS             128        415  382-4657         no        yes   \n",
       "1    OH             107        415  371-7191         no        yes   \n",
       "2    NJ             137        415  358-1921         no         no   \n",
       "3    OH              84        408  375-9999        yes         no   \n",
       "4    OK              75        415  330-6626        yes         no   \n",
       "\n",
       "   VMail Message  Day Mins  Day Calls  Day Charge  ...  Eve Calls  Eve Charge  \\\n",
       "0             25     265.1        110       45.07  ...         99       16.78   \n",
       "1             26     161.6        123       27.47  ...        103       16.62   \n",
       "2              0     243.4        114       41.38  ...        110       10.30   \n",
       "3              0     299.4         71       50.90  ...         88        5.26   \n",
       "4              0     166.7        113       28.34  ...        122       12.61   \n",
       "\n",
       "   Night Mins  Night Calls  Night Charge  Intl Mins  Intl Calls  Intl Charge  \\\n",
       "0       244.7           91         11.01       10.0           3         2.70   \n",
       "1       254.4          103         11.45       13.7           3         3.70   \n",
       "2       162.6          104          7.32       12.2           5         3.29   \n",
       "3       196.9           89          8.86        6.6           7         1.78   \n",
       "4       186.9          121          8.41       10.1           3         2.73   \n",
       "\n",
       "   CustServ Calls  Churn?  \n",
       "0               1  False.  \n",
       "1               1  False.  \n",
       "2               0  False.  \n",
       "3               2  False.  \n",
       "4               3  False.  \n",
       "\n",
       "[5 rows x 21 columns]"
      ]
     },
     "execution_count": 105,
     "metadata": {},
     "output_type": "execute_result"
    }
   ],
   "source": [
    "data = pd.read_csv(\"../../python-ml-course/datasets/customer-churn-model/Customer Churn Model.txt\")\n",
    "data.head()"
   ]
  },
  {
   "cell_type": "markdown",
   "id": "7e523a34",
   "metadata": {},
   "source": [
    "# Crear un subconjunto de datos"
   ]
  },
  {
   "cell_type": "code",
   "execution_count": null,
   "id": "8986a050",
   "metadata": {},
   "outputs": [],
   "source": [
    "account_length = data[\"Account Length\"]\n",
    "account_length.head()"
   ]
  },
  {
   "cell_type": "code",
   "execution_count": null,
   "id": "bb953950",
   "metadata": {},
   "outputs": [],
   "source": [
    "# Conocer el tipo de dato generado\n",
    "type(account_length)"
   ]
  },
  {
   "cell_type": "code",
   "execution_count": null,
   "id": "5de67b25",
   "metadata": {},
   "outputs": [],
   "source": [
    "subset_1 = data[[\"Account Length\", \"Phone\", \"Eve Charge\", \"Night Calls\"]]\n",
    "subset_1.head()"
   ]
  },
  {
   "cell_type": "code",
   "execution_count": null,
   "id": "09f06e06",
   "metadata": {},
   "outputs": [],
   "source": [
    "# Conocer el tipo de dato generado\n",
    "type(subset_1)"
   ]
  },
  {
   "cell_type": "code",
   "execution_count": null,
   "id": "94e9dc21",
   "metadata": {},
   "outputs": [],
   "source": [
    "#\n",
    "desired_columns = [\"Account Length\", \"Phone\", \"Eve Charge\", \"Night Calls\"]\n",
    "subset_2 = data[desired_columns]\n",
    "subset_2.head()"
   ]
  },
  {
   "cell_type": "code",
   "execution_count": null,
   "id": "e4a1963e",
   "metadata": {},
   "outputs": [],
   "source": [
    "# Conocer el tipo de dato generado\n",
    "type(subset_2)"
   ]
  },
  {
   "cell_type": "code",
   "execution_count": null,
   "id": "12cc7db6",
   "metadata": {},
   "outputs": [],
   "source": [
    "#\n",
    "desired_columns_2 = [\"Account Length\", \"VMail Message\", \"Day Calls\"]\n",
    "subset_3 = data[desired_columns_2]\n",
    "subset_3.head()"
   ]
  },
  {
   "cell_type": "code",
   "execution_count": null,
   "id": "fc7d741d",
   "metadata": {},
   "outputs": [],
   "source": [
    "# Mostrar todas la columnas del dataset\n",
    "all_column_list = data.columns.values.tolist()\n",
    "all_column_list"
   ]
  },
  {
   "cell_type": "code",
   "execution_count": null,
   "id": "f6b47804",
   "metadata": {},
   "outputs": [],
   "source": [
    "# Quitar las columnas no deseadas\n",
    "sublist = [x for x in all_column_list if x not in desired_columns_2]\n",
    "sublist"
   ]
  },
  {
   "cell_type": "code",
   "execution_count": null,
   "id": "f8162343",
   "metadata": {},
   "outputs": [],
   "source": [
    "subset_4 = data[sublist]\n",
    "subset_4.head()"
   ]
  },
  {
   "cell_type": "code",
   "execution_count": null,
   "id": "578c65a4",
   "metadata": {},
   "outputs": [],
   "source": [
    "# Obtener un rango de datos es específico\n",
    "data[10:20]"
   ]
  },
  {
   "cell_type": "code",
   "execution_count": null,
   "id": "468cbb3d",
   "metadata": {},
   "outputs": [],
   "source": [
    "# Usuarios con Total Mins > 500\n",
    "data_1 = data[data[\"Day Mins\"]>330]\n",
    "data_1"
   ]
  },
  {
   "cell_type": "code",
   "execution_count": null,
   "id": "757b5ffd",
   "metadata": {},
   "outputs": [],
   "source": [
    "# Obtener los usuario de New York (NY)\n",
    "data_2 = data[data[\"State\"]==\"NY\"]\n",
    "data_2"
   ]
  },
  {
   "cell_type": "code",
   "execution_count": null,
   "id": "9bd0aab8",
   "metadata": {},
   "outputs": [],
   "source": [
    "# AND -> &\n",
    "\n",
    "data_3 = data[(data[\"Day Mins\"]>300) & (data[\"State\"]==\"NY\")] \n",
    "data_3"
   ]
  },
  {
   "cell_type": "code",
   "execution_count": null,
   "id": "da3fb60b",
   "metadata": {},
   "outputs": [],
   "source": [
    "# OR -> \n",
    "data_4 = data[(data[\"Day Mins\"]>300) | (data[\"State\"]==\"NY\")] \n",
    "data_4"
   ]
  },
  {
   "cell_type": "code",
   "execution_count": null,
   "id": "66d055aa",
   "metadata": {},
   "outputs": [],
   "source": [
    "# \n",
    "data_5 = data[data[\"Day Calls\"]<data[\"Night Calls\"]] \n",
    "data_5"
   ]
  },
  {
   "cell_type": "code",
   "execution_count": null,
   "id": "3c9c9bec",
   "metadata": {},
   "outputs": [],
   "source": [
    "data_6 = data[data[\"Day Mins\"]<data[\"Night Mins\"]] \n",
    "data_6"
   ]
  },
  {
   "cell_type": "code",
   "execution_count": null,
   "id": "b76d1495",
   "metadata": {},
   "outputs": [],
   "source": [
    "# Minutos de dia, de noche y longitud de la cuenta de los primeros 50 individuos\n",
    "subset_first_50 = data[[\"Day Mins\",\"Night Mins\",\"Account Length\"]][:50]\n",
    "subset_first_50.head()"
   ]
  },
  {
   "cell_type": "code",
   "execution_count": null,
   "id": "acf87ae1",
   "metadata": {},
   "outputs": [],
   "source": [
    "# Mostrar las 10 primeras filas y las columnas del 3 al 6\n",
    "data_7 = data.iloc[0:10, 3:6]\n",
    "data_7"
   ]
  },
  {
   "cell_type": "code",
   "execution_count": null,
   "id": "52cd8810",
   "metadata": {},
   "outputs": [],
   "source": [
    "# Mostrar todas las filas para las columnas 3,4,5,6\n",
    "data.iloc[:,3:6]\n"
   ]
  },
  {
   "cell_type": "code",
   "execution_count": null,
   "id": "5725edc8",
   "metadata": {},
   "outputs": [],
   "source": [
    "# Mostrar todas las columnas para las primeras 10 filas\n",
    "data.iloc[0:10,:]"
   ]
  },
  {
   "cell_type": "code",
   "execution_count": null,
   "id": "cb8d81cc",
   "metadata": {},
   "outputs": [],
   "source": [
    "# para acceder por posicion\n",
    "data.iloc[[1,5,8,36],[2,5,7]]"
   ]
  },
  {
   "cell_type": "code",
   "execution_count": null,
   "id": "772cca23",
   "metadata": {},
   "outputs": [],
   "source": [
    "# Para acceder por ?\n",
    "data.loc[[1,5,8,36],[\"Area Code\",\"VMail Plan\", \"Day Mins\"]]"
   ]
  },
  {
   "cell_type": "code",
   "execution_count": null,
   "id": "431c0d2f",
   "metadata": {},
   "outputs": [],
   "source": [
    "# Crear una nueva columna con los minutos totales\n",
    "data[\"Totals Mins\"] = data[\"Day Mins\"] + data[\"Night Mins\"] + data[\"Eve Mins\"]\n",
    "data"
   ]
  },
  {
   "cell_type": "code",
   "execution_count": null,
   "id": "39bcd081",
   "metadata": {},
   "outputs": [],
   "source": [
    "# Crear una columna con las llamadas totales\n",
    "data[\"Totals Calls\"] = data[\"Day Calls\"] + data[\"Night Calls\"] + data[\"Eve Calls\"]\n",
    "data"
   ]
  },
  {
   "cell_type": "code",
   "execution_count": null,
   "id": "9c92eb63",
   "metadata": {},
   "outputs": [],
   "source": [
    "data.shape"
   ]
  },
  {
   "cell_type": "code",
   "execution_count": null,
   "id": "768619c9",
   "metadata": {},
   "outputs": [],
   "source": [
    "data.head()"
   ]
  },
  {
   "cell_type": "markdown",
   "id": "83613a44",
   "metadata": {},
   "source": [
    "# Generacion de números aleatorios"
   ]
  },
  {
   "cell_type": "code",
   "execution_count": 69,
   "id": "1fc5c8ff",
   "metadata": {},
   "outputs": [],
   "source": [
    "import numpy as np"
   ]
  },
  {
   "cell_type": "code",
   "execution_count": null,
   "id": "67724b17",
   "metadata": {},
   "outputs": [
    {
     "data": {
      "text/plain": [
       "86"
      ]
     },
     "execution_count": 84,
     "metadata": {},
     "output_type": "execute_result"
    }
   ],
   "source": [
    "# Generar un numero aleatorio entre (1,100)\n",
    "np.random.randint(1,100)"
   ]
  },
  {
   "cell_type": "code",
   "execution_count": null,
   "id": "0061b76a",
   "metadata": {},
   "outputs": [
    {
     "data": {
      "text/plain": [
       "0.3355520778976301"
      ]
     },
     "execution_count": 90,
     "metadata": {},
     "output_type": "execute_result"
    }
   ],
   "source": [
    "# Generar un aleatorio entre 0 y 1 (Con decimales)\n",
    "np.random.random()"
   ]
  },
  {
   "cell_type": "code",
   "execution_count": 93,
   "id": "66aa395e",
   "metadata": {},
   "outputs": [],
   "source": [
    "## Funcion que genera una lista de n numeros aleatorios enteros dentro del intervalo [a,b]\n",
    "def ranint_list(n, a, b):\n",
    "    x = []\n",
    "    for i in range(n):\n",
    "        x.append(np.random.randint(a,b))\n",
    "    return x"
   ]
  },
  {
   "cell_type": "code",
   "execution_count": 94,
   "id": "89e4da0e",
   "metadata": {},
   "outputs": [
    {
     "data": {
      "text/plain": [
       "[5, 9, 10, 38, 2, 33, 23]"
      ]
     },
     "execution_count": 94,
     "metadata": {},
     "output_type": "execute_result"
    }
   ],
   "source": [
    "ranint_list(7, 1,50)"
   ]
  },
  {
   "cell_type": "code",
   "execution_count": 95,
   "id": "36f4a54f",
   "metadata": {},
   "outputs": [],
   "source": [
    "# Paquete ya hace lo anterior\n",
    "import random"
   ]
  },
  {
   "cell_type": "code",
   "execution_count": 97,
   "id": "5085105e",
   "metadata": {},
   "outputs": [
    {
     "name": "stdout",
     "output_type": "stream",
     "text": [
      "63\n",
      "0\n",
      "7\n",
      "56\n",
      "63\n",
      "21\n",
      "35\n",
      "77\n",
      "77\n",
      "7\n"
     ]
    }
   ],
   "source": [
    "# Generar numeros aleatorios que sean multiplos de 7\n",
    "for i in range(10):\n",
    "    print(random.randrange(0, 100, 7))"
   ]
  },
  {
   "cell_type": "markdown",
   "id": "b17d1309",
   "metadata": {},
   "source": [
    "### Shuffling"
   ]
  },
  {
   "cell_type": "code",
   "execution_count": null,
   "id": "87f1e656",
   "metadata": {},
   "outputs": [
    {
     "data": {
      "text/plain": [
       "array([ 0,  1,  2,  3,  4,  5,  6,  7,  8,  9, 10, 11, 12, 13, 14, 15, 16,\n",
       "       17, 18, 19, 20, 21, 22, 23, 24, 25, 26, 27, 28, 29, 30, 31, 32, 33,\n",
       "       34, 35, 36, 37, 38, 39, 40, 41, 42, 43, 44, 45, 46, 47, 48, 49, 50,\n",
       "       51, 52, 53, 54, 55, 56, 57, 58, 59, 60, 61, 62, 63, 64, 65, 66, 67,\n",
       "       68, 69, 70, 71, 72, 73, 74, 75, 76, 77, 78, 79, 80, 81, 82, 83, 84,\n",
       "       85, 86, 87, 88, 89, 90, 91, 92, 93, 94, 95, 96, 97, 98, 99])"
      ]
     },
     "execution_count": 99,
     "metadata": {},
     "output_type": "execute_result"
    }
   ],
   "source": [
    "# Obtener los primeros 100 numeros\n",
    "a = np.arange(100)\n",
    "a"
   ]
  },
  {
   "cell_type": "code",
   "execution_count": 102,
   "id": "0c0ff3f8",
   "metadata": {},
   "outputs": [
    {
     "data": {
      "text/plain": [
       "array([18, 89, 50, 57, 51, 37, 53, 30,  1, 94, 41, 14, 65, 66, 55, 75, 16,\n",
       "       77, 39, 63, 78, 67,  3, 19, 35, 15, 28, 13, 33, 48, 73, 36, 47, 99,\n",
       "        7, 90, 10, 54, 88, 80, 43, 52, 49, 98, 70, 97, 71, 96, 72, 44,  5,\n",
       "       74, 56, 86, 32, 92, 45, 82, 81, 76, 46, 22, 31, 24, 84, 12, 25, 69,\n",
       "       17, 34, 21, 59,  6, 68, 60,  8, 64, 42, 79, 83,  0, 40, 62, 38, 27,\n",
       "       20, 91,  9, 26, 61,  4,  2, 23, 11, 93, 95, 29, 85, 87, 58])"
      ]
     },
     "execution_count": 102,
     "metadata": {},
     "output_type": "execute_result"
    }
   ],
   "source": [
    "# Barajar los numeros\n",
    "np.random.shuffle(a)\n",
    "a"
   ]
  },
  {
   "cell_type": "code",
   "execution_count": null,
   "id": "c9de8270",
   "metadata": {},
   "outputs": [
    {
     "data": {
      "text/plain": [
       "(3333, 21)"
      ]
     },
     "execution_count": 107,
     "metadata": {},
     "output_type": "execute_result"
    }
   ],
   "source": [
    "# Verificamos la cantidad de filas y columnas que tenemos\n",
    "data.shape"
   ]
  },
  {
   "cell_type": "code",
   "execution_count": 108,
   "id": "05694f4a",
   "metadata": {},
   "outputs": [
    {
     "data": {
      "text/plain": [
       "['State',\n",
       " 'Account Length',\n",
       " 'Area Code',\n",
       " 'Phone',\n",
       " \"Int'l Plan\",\n",
       " 'VMail Plan',\n",
       " 'VMail Message',\n",
       " 'Day Mins',\n",
       " 'Day Calls',\n",
       " 'Day Charge',\n",
       " 'Eve Mins',\n",
       " 'Eve Calls',\n",
       " 'Eve Charge',\n",
       " 'Night Mins',\n",
       " 'Night Calls',\n",
       " 'Night Charge',\n",
       " 'Intl Mins',\n",
       " 'Intl Calls',\n",
       " 'Intl Charge',\n",
       " 'CustServ Calls',\n",
       " 'Churn?']"
      ]
     },
     "execution_count": 108,
     "metadata": {},
     "output_type": "execute_result"
    }
   ],
   "source": [
    "column_list_2 = data.columns.values.tolist()\n",
    "column_list_2"
   ]
  },
  {
   "cell_type": "code",
   "execution_count": null,
   "id": "418b7c61",
   "metadata": {},
   "outputs": [
    {
     "data": {
      "text/plain": [
       "np.str_('Day Charge')"
      ]
     },
     "execution_count": 110,
     "metadata": {},
     "output_type": "execute_result"
    }
   ],
   "source": [
    "# Elegir al azar un valor de la lista de columnas\n",
    "np.random.choice(column_list_2)\n"
   ]
  },
  {
   "cell_type": "markdown",
   "id": "4df6d585",
   "metadata": {},
   "source": [
    "### Seed o semilla"
   ]
  },
  {
   "cell_type": "code",
   "execution_count": null,
   "id": "1ced7934",
   "metadata": {},
   "outputs": [
    {
     "name": "stdout",
     "output_type": "stream",
     "text": [
      "0.1354881636779618\n",
      "0.887851702730378\n",
      "0.9326056398865025\n",
      "0.44556816404759514\n",
      "0.3882355461139826\n"
     ]
    }
   ],
   "source": [
    "# plantar una semilla, para que sirve? Para cuando un flujo de negocio funciona bien \n",
    "# y podamos reproducirlo mas adelante\n",
    "# Si quieres que varie el ramdon, hay que retirar la semilla\n",
    "np.random.seed(2025)\n",
    "for i in range(5):\n",
    "    print(np.random.random())"
   ]
  }
 ],
 "metadata": {
  "kernelspec": {
   "display_name": "env_ml_datascience",
   "language": "python",
   "name": "python3"
  },
  "language_info": {
   "codemirror_mode": {
    "name": "ipython",
    "version": 3
   },
   "file_extension": ".py",
   "mimetype": "text/x-python",
   "name": "python",
   "nbconvert_exporter": "python",
   "pygments_lexer": "ipython3",
   "version": "3.12.9"
  }
 },
 "nbformat": 4,
 "nbformat_minor": 5
}
